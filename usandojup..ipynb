{
 "cells": [
  {
   "cell_type": "code",
   "execution_count": 1,
   "metadata": {},
   "outputs": [
    {
     "name": "stderr",
     "output_type": "stream",
     "text": [
      "c:\\Users\\Ale\\AppData\\Local\\Programs\\Python\\Python310\\lib\\site-packages\\tqdm\\auto.py:21: TqdmWarning: IProgress not found. Please update jupyter and ipywidgets. See https://ipywidgets.readthedocs.io/en/stable/user_install.html\n",
      "  from .autonotebook import tqdm as notebook_tqdm\n",
      "c:\\Users\\Ale\\AppData\\Local\\Programs\\Python\\Python310\\lib\\site-packages\\datasets\\load.py:1454: FutureWarning: The repository for spacemanidol/product-search-corpus contains custom code which must be executed to correctly load the dataset. You can inspect the repository content at https://hf.co/datasets/spacemanidol/product-search-corpus\n",
      "You can avoid this message in future by passing the argument `trust_remote_code=True`.\n",
      "Passing `trust_remote_code=True` will be mandatory to load this dataset from the next major release of `datasets`.\n",
      "  warnings.warn(\n"
     ]
    },
    {
     "data": {
      "text/html": [
       "<div>\n",
       "<style scoped>\n",
       "    .dataframe tbody tr th:only-of-type {\n",
       "        vertical-align: middle;\n",
       "    }\n",
       "\n",
       "    .dataframe tbody tr th {\n",
       "        vertical-align: top;\n",
       "    }\n",
       "\n",
       "    .dataframe thead th {\n",
       "        text-align: right;\n",
       "    }\n",
       "</style>\n",
       "<table border=\"1\" class=\"dataframe\">\n",
       "  <thead>\n",
       "    <tr style=\"text-align: right;\">\n",
       "      <th></th>\n",
       "      <th>docid</th>\n",
       "      <th>produto</th>\n",
       "      <th>descricao</th>\n",
       "    </tr>\n",
       "  </thead>\n",
       "  <tbody>\n",
       "    <tr>\n",
       "      <th>0</th>\n",
       "      <td>1</td>\n",
       "      <td>FYY Leather Case with Mirror for Samsung Galax...</td>\n",
       "      <td>Product Description Premium PU Leather Top qua...</td>\n",
       "    </tr>\n",
       "    <tr>\n",
       "      <th>1</th>\n",
       "      <td>2</td>\n",
       "      <td>Playtex Women's 18 Hour Easy On, Easy Off Fron...</td>\n",
       "      <td>Product Description Introducing Playtex 18 hou...</td>\n",
       "    </tr>\n",
       "    <tr>\n",
       "      <th>2</th>\n",
       "      <td>4</td>\n",
       "      <td>YUEPIN U-Tube Clamp 304 Stainless Steel Hose P...</td>\n",
       "      <td>Product Description Specification: Material: 3...</td>\n",
       "    </tr>\n",
       "    <tr>\n",
       "      <th>3</th>\n",
       "      <td>5</td>\n",
       "      <td>Bruce's Big Storm (Mother Bruce Series)</td>\n",
       "      <td></td>\n",
       "    </tr>\n",
       "    <tr>\n",
       "      <th>4</th>\n",
       "      <td>6</td>\n",
       "      <td>DJI Shoulder Neck Strap Belt Sling Lanyard Nec...</td>\n",
       "      <td>Product Description Specifications: Item Condi...</td>\n",
       "    </tr>\n",
       "  </tbody>\n",
       "</table>\n",
       "</div>"
      ],
      "text/plain": [
       "  docid                                            produto  \\\n",
       "0     1  FYY Leather Case with Mirror for Samsung Galax...   \n",
       "1     2  Playtex Women's 18 Hour Easy On, Easy Off Fron...   \n",
       "2     4  YUEPIN U-Tube Clamp 304 Stainless Steel Hose P...   \n",
       "3     5            Bruce's Big Storm (Mother Bruce Series)   \n",
       "4     6  DJI Shoulder Neck Strap Belt Sling Lanyard Nec...   \n",
       "\n",
       "                                           descricao  \n",
       "0  Product Description Premium PU Leather Top qua...  \n",
       "1  Product Description Introducing Playtex 18 hou...  \n",
       "2  Product Description Specification: Material: 3...  \n",
       "3                                                     \n",
       "4  Product Description Specifications: Item Condi...  "
      ]
     },
     "metadata": {},
     "output_type": "display_data"
    },
    {
     "name": "stdout",
     "output_type": "stream",
     "text": [
      "A palavra 'Clothing' aparece 1978 vezes na base de dados.\n"
     ]
    }
   ],
   "source": [
    "from datasets import load_dataset\n",
    "import pandas as pd\n",
    "\n",
    "# Carregar o conjunto de dados\n",
    "dataset = load_dataset(\"spacemanidol/product-search-corpus\")\n",
    "\n",
    "# Obter o conjunto de dados desejado\n",
    "data = dataset[\"train\"]\n",
    "\n",
    "# Converter para DataFrame do Pandas\n",
    "df = pd.DataFrame(data)\n",
    "\n",
    "# Renomeia as colunas 'title' e 'text'\n",
    "df = df.rename(columns={'title': 'produto', 'text': 'descricao'})\n",
    "\n",
    "# Visualizar o DataFrame\n",
    "display(df.head())\n",
    "\n",
    "# Contagem de ocorrências da palavra 'Clothing' na coluna 'produto'\n",
    "contagem_clothing = df['produto'].str.contains('Clothing', case=False).sum()\n",
    "\n",
    "print(f\"A palavra 'Clothing' aparece {contagem_clothing} vezes na base de dados.\")\n",
    "\n",
    "\n",
    "\n",
    "\n",
    "\n"
   ]
  }
 ],
 "metadata": {
  "kernelspec": {
   "display_name": "Python 3",
   "language": "python",
   "name": "python3"
  },
  "language_info": {
   "codemirror_mode": {
    "name": "ipython",
    "version": 3
   },
   "file_extension": ".py",
   "mimetype": "text/x-python",
   "name": "python",
   "nbconvert_exporter": "python",
   "pygments_lexer": "ipython3",
   "version": "3.10.5"
  }
 },
 "nbformat": 4,
 "nbformat_minor": 2
}
